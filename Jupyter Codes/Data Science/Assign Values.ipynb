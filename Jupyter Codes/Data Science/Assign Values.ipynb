{
 "cells": [
  {
   "cell_type": "code",
   "execution_count": 1,
   "metadata": {},
   "outputs": [],
   "source": [
    "import numpy as np"
   ]
  },
  {
   "cell_type": "code",
   "execution_count": 2,
   "metadata": {},
   "outputs": [],
   "source": [
    "heights=[189,170,189,163,183,171,185,168,173,183,\n",
    "         173,173,175,178,183,193,178,173,174,183,\n",
    "         183,180,168,180,170,178,182,180,183,178,\n",
    "         182,188,175,179,183,193,182,183,177,185,\n",
    "        188,188,182,185,191]\n",
    "ages=[57,61,57,57,58,57,61,54,68,51,\n",
    "      49,64,50,48,65,52,56,46,54,49,\n",
    "      51,47,55,55,54,42,51,56,55,51,\n",
    "      54,51,60,62,43,55,56,61,52,69,   \n",
    "      64,46,54,47,70]\n",
    "height_arr=np.array(heights)\n",
    "age_arr=np.array(ages)"
   ]
  },
  {
   "cell_type": "code",
   "execution_count": 3,
   "metadata": {
    "scrolled": true
   },
   "outputs": [
    {
     "name": "stdout",
     "output_type": "stream",
     "text": [
      "45\n",
      "(45,)\n",
      "5\n",
      "45\n",
      "(45,)\n",
      "28\n"
     ]
    }
   ],
   "source": [
    "print(height_arr.size)\n",
    "print(height_arr.shape)\n",
    "print((height_arr>188).sum())\n",
    "print(age_arr.size)\n",
    "print(age_arr.shape)\n",
    "print((age_arr>52).sum())"
   ]
  },
  {
   "cell_type": "code",
   "execution_count": 4,
   "metadata": {},
   "outputs": [
    {
     "name": "stdout",
     "output_type": "stream",
     "text": [
      "[ True False  True False False False False False False False False False\n",
      " False False False  True False False False False False False False False\n",
      " False False False False False False False False False False False  True\n",
      " False False False False False False False False  True]\n",
      "5\n"
     ]
    }
   ],
   "source": [
    "height_188=height_arr>188\n",
    "print(height_188)\n",
    "print(height_188.sum())"
   ]
  },
  {
   "cell_type": "code",
   "execution_count": 5,
   "metadata": {},
   "outputs": [
    {
     "name": "stdout",
     "output_type": "stream",
     "text": [
      "[189 170 189 163 183 171 185 168 173 183 173 173 175 178 183 193 178 173\n",
      " 174 183 183 180 168 180 170 178 182 180 183 178 182 188 175 179 183 193\n",
      " 182 183 177 185 188 188 182 185 191  57  61  57  57  58  57  61  54  68\n",
      "  51  49  64  50  48  65  52  56  46  54  49  51  47  55  55  54  42  51\n",
      "  56  55  51  54  51  60  62  43  55  56  61  52  69  64  46  54  47  70]\n",
      "(90,)\n",
      "[[189 170 189 163 183 171 185 168 173 183 173 173 175 178 183 193 178 173\n",
      "  174 183 183 180 168 180 170 178 182 180 183 178 182 188 175 179 183 193\n",
      "  182 183 177 185 188 188 182 185 191]\n",
      " [ 57  61  57  57  58  57  61  54  68  51  49  64  50  48  65  52  56  46\n",
      "   54  49  51  47  55  55  54  42  51  56  55  51  54  51  60  62  43  55\n",
      "   56  61  52  69  64  46  54  47  70]]\n"
     ]
    }
   ],
   "source": [
    "height_age=heights+ages\n",
    "height_age_arr=np.array(height_age)\n",
    "print(height_age_arr)\n",
    "print(height_age_arr.shape)\n",
    "height_age_arr=height_age_arr.reshape(2,45)\n",
    "print(height_age_arr)"
   ]
  },
  {
   "cell_type": "code",
   "execution_count": 6,
   "metadata": {
    "scrolled": true
   },
   "outputs": [
    {
     "name": "stdout",
     "output_type": "stream",
     "text": [
      "(1, 45)\n"
     ]
    },
    {
     "data": {
      "text/plain": [
       "array([195, 170, 189, 163, 183, 171, 185, 168, 173, 183, 173, 173, 175,\n",
       "       178, 183, 193, 178, 173, 174, 183, 183, 180, 168, 180, 170, 178,\n",
       "       182, 180, 183, 178, 182, 188, 175, 179, 183, 193, 182, 183, 177,\n",
       "       185, 188, 188, 182, 185, 191])"
      ]
     },
     "execution_count": 6,
     "metadata": {},
     "output_type": "execute_result"
    }
   ],
   "source": [
    "hg=height_arr.reshape(-1,45)\n",
    "hg\n",
    "print(hg.shape)\n",
    "height_arr[0]=195.5\n",
    "height_arr"
   ]
  },
  {
   "cell_type": "code",
   "execution_count": 7,
   "metadata": {},
   "outputs": [
    {
     "data": {
      "text/plain": [
       "array([57, 61, 57])"
      ]
     },
     "execution_count": 7,
     "metadata": {},
     "output_type": "execute_result"
    }
   ],
   "source": [
    "age_arr.shape\n",
    "age_arr[:3,]"
   ]
  },
  {
   "cell_type": "markdown",
   "metadata": {},
   "source": [
    "hstack"
   ]
  },
  {
   "cell_type": "code",
   "execution_count": 12,
   "metadata": {},
   "outputs": [
    {
     "name": "stdout",
     "output_type": "stream",
     "text": [
      "[195 170 189 163 183 171 185 168 173 183 173 173 175 178 183 193 178 173\n",
      " 174 183 183 180 168 180 170 178 182 180 183 178 182 188 175 179 183 193\n",
      " 182 183 177 185 188 188 182 185 191  57  61  57  57  58  57  61  54  68\n",
      "  51  49  64  50  48  65  52  56  46  54  49  51  47  55  55  54  42  51\n",
      "  56  55  51  54  51  60  62  43  55  56  61  52  69  64  46  54  47  70]\n",
      "(90,)\n",
      "[195 170 189]\n"
     ]
    }
   ],
   "source": [
    "age_arr.reshape(45,1)\n",
    "height_arr.reshape(45,1)\n",
    "height_age_arr=np.hstack((height_arr,age_arr)) #Chu y hai ngoac don\n",
    "print(height_age_arr)\n",
    "print(height_age_arr.shape)\n",
    "print(height_age_arr[:3,])"
   ]
  },
  {
   "cell_type": "markdown",
   "metadata": {},
   "source": [
    "vstack"
   ]
  },
  {
   "cell_type": "code",
   "execution_count": 18,
   "metadata": {
    "scrolled": true
   },
   "outputs": [
    {
     "name": "stdout",
     "output_type": "stream",
     "text": [
      "[[195 170 189 163 183 171 185 168 173 183 173 173 175 178 183 193 178 173\n",
      "  174 183 183 180 168 180 170 178 182 180 183 178 182 188 175 179 183 193\n",
      "  182 183 177 185 188 188 182 185 191]\n",
      " [ 57  61  57  57  58  57  61  54  68  51  49  64  50  48  65  52  56  46\n",
      "   54  49  51  47  55  55  54  42  51  56  55  51  54  51  60  62  43  55\n",
      "   56  61  52  69  64  46  54  47  70]]\n",
      "(2, 45)\n",
      "[[195 170 189 163]\n",
      " [ 57  61  57  57]]\n"
     ]
    }
   ],
   "source": [
    "age_arr.reshape(1,45)\n",
    "height_arr.reshape(1,45)\n",
    "height_age_arr=np.vstack((height_arr,age_arr)) #Chu y hai ngoac don\n",
    "print(height_age_arr)\n",
    "print(height_age_arr.shape)\n",
    "print(height_age_arr[:,:4])"
   ]
  },
  {
   "cell_type": "code",
   "execution_count": 31,
   "metadata": {
    "scrolled": false
   },
   "outputs": [
    {
     "name": "stdout",
     "output_type": "stream",
     "text": [
      "[[195 170 189 163 183 171 185 168 173 183 173 173 175 178 183 193 178 173\n",
      "  174 183 183 180 168 180 170 178 182 180 183 178 182 188 175 179 183 193\n",
      "  182 183 177 185 188 188 182 185 191]\n",
      " [ 57  61  57  57  58  57  61  54  68  51  49  64  50  48  65  52  56  46\n",
      "   54  49  51  47  55  55  54  42  51  56  55  51  54  51  60  62  43  55\n",
      "   56  61  52  69  64  46  54  47  70]]\n",
      "[195  57]\n",
      "[[195 170 189]\n",
      " [ 57  61  57]]\n",
      "[195  57]\n",
      "(2, 45)\n"
     ]
    }
   ],
   "source": [
    "print(height_age_arr[:3,])\n",
    "print(height_age_arr[:3,0])\n",
    "print(height_age_arr[:3,:3])\n",
    "print(height_age_arr[:,0])\n",
    "print(height_age_arr.shape)"
   ]
  },
  {
   "cell_type": "code",
   "execution_count": 40,
   "metadata": {},
   "outputs": [
    {
     "name": "stdout",
     "output_type": "stream",
     "text": [
      "[[195 170 189 163 183 171 185 168 173 183 173 173 175 178 183 193 178 173\n",
      "  174 183 183 180 168 180 170 178 182 180 183 178 182 188 175 179 183 193\n",
      "  182 183 177 185 188 188 182 185 191]\n",
      " [ 57  61  57  57  58  57  61  54  68  51  49  64  50  48  65  52  56  46\n",
      "   54  49  51  47  55  55  54  42  51  56  55  51  54  51  60  62  43  55\n",
      "   56  61  52  69  64  46  54  47  70]]\n",
      "(2, 45)\n",
      "[195 170 189 163 183 171 185 168 173 183 173 173 175 178 183 193 178 173\n",
      " 174 183 183 180 168 180 170 178 182 180 183 178 182 188 175 179 183 193\n",
      " 182 183 177 185 188 188 182 185 191  57  61  57  57  58  57  61  54  68\n",
      "  51  49  64  50  48  65  52  56  46  54  49  51  47  55  55  54  42  51\n",
      "  56  55  51  54  51  60  62  43  55  56  61  52  69  64  46  54  47  70]\n",
      "(90,)\n",
      "[[195 170 189 163 183 171 185 168 173 183 173 173 175 178 183 193 178 173\n",
      "  174 183 183 180 168 180 170 178 182 180 183 178 182 188 175 179 183 193\n",
      "  182 183 177 185 188 188 182 185 191  57  61  57  57  58  57  61  54  68\n",
      "   51  49  64  50  48  65  52  56  46  54  49  51  47  55  55  54  42  51\n",
      "   56  55  51  54  51  60  62  43  55  56  61  52  69  64  46  54  47  70]]\n",
      "(1, 90)\n"
     ]
    }
   ],
   "source": [
    "height_age_arr0=np.concatenate((height_arr,age_arr))\n",
    "print(height_age_arr)\n",
    "print(height_age_arr.shape) #(2,45)\n",
    "height_age_arr0=np.concatenate((height_arr,age_arr),axis=0)\n",
    "print(height_age_arr0)\n",
    "print(height_age_arr0.shape) #(90,)\n",
    "height_arr1=height_arr.reshape(1,45)\n",
    "age_arr1=age_arr.reshape(1,45)\n",
    "height_age_arr1=np.concatenate((height_arr1,age_arr1),axis=1)\n",
    "print(height_age_arr1)\n",
    "print(height_age_arr1.shape) #(1,90)"
   ]
  },
  {
   "cell_type": "code",
   "execution_count": 46,
   "metadata": {},
   "outputs": [
    {
     "name": "stdout",
     "output_type": "stream",
     "text": [
      "[[ 1  2  6]\n",
      " [ 2  3  7]\n",
      " [ 3  4  8]\n",
      " [ 5  6  9]\n",
      " [ 2  2 10]]\n",
      "(5, 3)\n",
      "[[ 1  2  6]\n",
      " [ 2  3  7]\n",
      " [ 3  4  8]\n",
      " [ 5  6  9]\n",
      " [ 2  2 10]]\n",
      "(5, 3)\n"
     ]
    }
   ],
   "source": [
    "arr1=np.array([[1,2],[2,3],[3,4],[5,6],[2,2]]) #shape (5,2)\n",
    "arr2=np.array([[6],[7],[8],[9],[10]]) # shape (5,1)\n",
    "#arr3=np.concatenate((arr1,arr2),axis=0) # Error\n",
    "#print(arr3)\n",
    "#print(arr3.shape)\n",
    "arr4=np.concatenate((arr1,arr2),axis=1) #\n",
    "print(arr4)\n",
    "print(arr4.shape)\n",
    "arr5=np.hstack((arr1,arr2))\n",
    "print(arr5)\n",
    "print(arr5.shape)"
   ]
  }
 ],
 "metadata": {
  "kernelspec": {
   "display_name": "Python 3",
   "language": "python",
   "name": "python3"
  },
  "language_info": {
   "codemirror_mode": {
    "name": "ipython",
    "version": 3
   },
   "file_extension": ".py",
   "mimetype": "text/x-python",
   "name": "python",
   "nbconvert_exporter": "python",
   "pygments_lexer": "ipython3",
   "version": "3.7.6"
  }
 },
 "nbformat": 4,
 "nbformat_minor": 4
}
