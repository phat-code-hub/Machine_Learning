{
 "cells": [
  {
   "cell_type": "code",
   "execution_count": 1,
   "metadata": {},
   "outputs": [
    {
     "name": "stdout",
     "output_type": "stream",
     "text": [
      "   Survived  Pclass     Sex   Age  Siblings/Spouses  Parents/Children     Fare\n",
      "0         0       3    male  22.0                 1                 0   7.2500\n",
      "1         1       1  female  38.0                 1                 0  71.2833\n",
      "2         1       3  female  26.0                 0                 0   7.9250\n",
      "3         1       1  female  35.0                 1                 0  53.1000\n",
      "4         0       3    male  35.0                 0                 0   8.0500\n",
      "5         0       3    male  27.0                 0                 0   8.4583\n",
      "6         0       1    male  54.0                 0                 0  51.8625\n",
      "7         0       3    male   2.0                 3                 1  21.0750\n",
      "8         1       3  female  27.0                 0                 2  11.1333\n",
      "9         1       2  female  14.0                 1                 0  30.0708\n"
     ]
    }
   ],
   "source": [
    "import pandas as pd\n",
    "df=pd.read_csv('https://sololearn.com/uploads/files/titanic.csv')\n",
    "print(df.head(n=10))"
   ]
  },
  {
   "cell_type": "code",
   "execution_count": 2,
   "metadata": {},
   "outputs": [],
   "source": [
    "#1dimension array output\n",
    "arr=df['Fare'].values"
   ]
  },
  {
   "cell_type": "markdown",
   "metadata": {},
   "source": [
    "##### Convert pandas DataFrame to Numpy Array"
   ]
  },
  {
   "cell_type": "code",
   "execution_count": 7,
   "metadata": {
    "scrolled": true
   },
   "outputs": [
    {
     "name": "stdout",
     "output_type": "stream",
     "text": [
      "(10, 3)\n",
      "[ 3.    7.25 22.  ]\n",
      "7.25\n",
      "[22. 38. 26. 35. 35.]\n"
     ]
    }
   ],
   "source": [
    "arr=df[['Pclass','Fare','Age']].values[:10]\n",
    "#print(arr)\n",
    "print(arr.shape)\n",
    "print(arr[0])\n",
    "print(arr[0,1])\n",
    "print(arr[:5,2])"
   ]
  },
  {
   "cell_type": "code",
   "execution_count": 12,
   "metadata": {},
   "outputs": [
    {
     "name": "stdout",
     "output_type": "stream",
     "text": [
      "20\n",
      "20\n"
     ]
    }
   ],
   "source": [
    "arr=df[['Pclass','Fare','Age']].values[:100]\n",
    "mask=arr[:,2]<18\n",
    "print(mask.sum())\n",
    "print((arr[:,2]<18).sum())"
   ]
  }
 ],
 "metadata": {
  "kernelspec": {
   "display_name": "Python 3",
   "language": "python",
   "name": "python3"
  },
  "language_info": {
   "codemirror_mode": {
    "name": "ipython",
    "version": 3
   },
   "file_extension": ".py",
   "mimetype": "text/x-python",
   "name": "python",
   "nbconvert_exporter": "python",
   "pygments_lexer": "ipython3",
   "version": "3.8.1"
  }
 },
 "nbformat": 4,
 "nbformat_minor": 4
}
