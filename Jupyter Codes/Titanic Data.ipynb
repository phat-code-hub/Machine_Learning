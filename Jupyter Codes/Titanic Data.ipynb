{
 "cells": [
  {
   "cell_type": "code",
   "execution_count": 1,
   "metadata": {},
   "outputs": [],
   "source": [
    "import pandas as pd"
   ]
  },
  {
   "cell_type": "code",
   "execution_count": 2,
   "metadata": {},
   "outputs": [
    {
     "name": "stdout",
     "output_type": "stream",
     "text": [
      "   Survived  Pclass     Sex   Age  Siblings/Spouses  Parents/Children     Fare\n",
      "0         0       3    male  22.0                 1                 0   7.2500\n",
      "1         1       1  female  38.0                 1                 0  71.2833\n",
      "2         1       3  female  26.0                 0                 0   7.9250\n",
      "3         1       1  female  35.0                 1                 0  53.1000\n",
      "4         0       3    male  35.0                 0                 0   8.0500\n",
      "5         0       3    male  27.0                 0                 0   8.4583\n",
      "6         0       1    male  54.0                 0                 0  51.8625\n",
      "7         0       3    male   2.0                 3                 1  21.0750\n",
      "8         1       3  female  27.0                 0                 2  11.1333\n",
      "9         1       2  female  14.0                 1                 0  30.0708\n"
     ]
    }
   ],
   "source": [
    "df=pd.read_csv('https://sololearn.com/uploads/files/titanic.csv')\n",
    "print(df.head(n=10))"
   ]
  },
  {
   "cell_type": "markdown",
   "metadata": {},
   "source": [
    "##### describe() to show staticistics of data"
   ]
  },
  {
   "cell_type": "code",
   "execution_count": 3,
   "metadata": {},
   "outputs": [
    {
     "name": "stdout",
     "output_type": "stream",
     "text": [
      "         Survived      Pclass         Age  Siblings/Spouses  Parents/Children  \\\n",
      "count  887.000000  887.000000  887.000000        887.000000        887.000000   \n",
      "mean     0.385569    2.305524   29.471443          0.525366          0.383315   \n",
      "std      0.487004    0.836662   14.121908          1.104669          0.807466   \n",
      "min      0.000000    1.000000    0.420000          0.000000          0.000000   \n",
      "25%      0.000000    2.000000   20.250000          0.000000          0.000000   \n",
      "50%      0.000000    3.000000   28.000000          0.000000          0.000000   \n",
      "75%      1.000000    3.000000   38.000000          1.000000          0.000000   \n",
      "max      1.000000    3.000000   80.000000          8.000000          6.000000   \n",
      "\n",
      "            Fare  \n",
      "count  887.00000  \n",
      "mean    32.30542  \n",
      "std     49.78204  \n",
      "min      0.00000  \n",
      "25%      7.92500  \n",
      "50%     14.45420  \n",
      "75%     31.13750  \n",
      "max    512.32920  \n"
     ]
    }
   ],
   "source": [
    "#pd.options.display.max_columns=6\n",
    "print(df.describe())"
   ]
  },
  {
   "cell_type": "code",
   "execution_count": 4,
   "metadata": {
    "scrolled": true
   },
   "outputs": [
    {
     "name": "stdout",
     "output_type": "stream",
     "text": [
      "       Fare   Age\n",
      "0    7.2500  22.0\n",
      "1   71.2833  38.0\n",
      "2    7.9250  26.0\n",
      "3   53.1000  35.0\n",
      "4    8.0500  35.0\n",
      "5    8.4583  27.0\n",
      "6   51.8625  54.0\n",
      "7   21.0750   2.0\n",
      "8   11.1333  27.0\n",
      "9   30.0708  14.0\n",
      "10  16.7000   4.0\n",
      "11  26.5500  58.0\n",
      "12   8.0500  20.0\n",
      "13  31.2750  39.0\n",
      "14   7.8542  14.0\n"
     ]
    }
   ],
   "source": [
    "col=df[['Fare','Age']]\n",
    "print(col.head(n=15))"
   ]
  },
  {
   "cell_type": "code",
   "execution_count": 5,
   "metadata": {},
   "outputs": [
    {
     "name": "stdout",
     "output_type": "stream",
     "text": [
      "    Age     Sex  Survived\n",
      "0  22.0    male         0\n",
      "1  38.0  female         1\n",
      "2  26.0  female         1\n",
      "3  35.0  female         1\n",
      "4  35.0    male         0\n"
     ]
    }
   ],
   "source": [
    "#Select many columns\n",
    "small_df=df[['Age','Sex','Survived']]\n",
    "print(small_df.head())"
   ]
  },
  {
   "cell_type": "code",
   "execution_count": 7,
   "metadata": {},
   "outputs": [
    {
     "name": "stdout",
     "output_type": "stream",
     "text": [
      "   Survived  Pclass     Sex   Age  Siblings/Spouses  Parents/Children  \\\n",
      "0         0       3    male  22.0                 1                 0   \n",
      "1         1       1  female  38.0                 1                 0   \n",
      "2         1       3  female  26.0                 0                 0   \n",
      "3         1       1  female  35.0                 1                 0   \n",
      "4         0       3    male  35.0                 0                 0   \n",
      "\n",
      "      Fare   male  \n",
      "0   7.2500   True  \n",
      "1  71.2833  False  \n",
      "2   7.9250  False  \n",
      "3  53.1000  False  \n",
      "4   8.0500   True  \n"
     ]
    }
   ],
   "source": [
    "#Create new Column\n",
    "df['male']=df['Sex']=='male'\n",
    "print(df.head())"
   ]
  }
 ],
 "metadata": {
  "kernelspec": {
   "display_name": "Python 3",
   "language": "python",
   "name": "python3"
  },
  "language_info": {
   "codemirror_mode": {
    "name": "ipython",
    "version": 3
   },
   "file_extension": ".py",
   "mimetype": "text/x-python",
   "name": "python",
   "nbconvert_exporter": "python",
   "pygments_lexer": "ipython3",
   "version": "3.7.6"
  }
 },
 "nbformat": 4,
 "nbformat_minor": 4
}
